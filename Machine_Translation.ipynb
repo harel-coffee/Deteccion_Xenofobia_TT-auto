{
  "nbformat": 4,
  "nbformat_minor": 0,
  "metadata": {
    "colab": {
      "name": "Copia de Machine_Translation.ipynb",
      "provenance": [],
      "collapsed_sections": []
    },
    "kernelspec": {
      "name": "python3",
      "display_name": "Python 3"
    }
  },
  "cells": [
    {
      "cell_type": "code",
      "metadata": {
        "id": "LKRjkSPIEwuY"
      },
      "source": [
        "!pip install googletrans\n",
        "!pip3 install hyper"
      ],
      "execution_count": null,
      "outputs": []
    },
    {
      "cell_type": "code",
      "metadata": {
        "id": "sWPPW1zKao8G",
        "colab": {
          "base_uri": "https://localhost:8080/"
        },
        "outputId": "38892926-e8c0-49ed-ccf4-94fd2ca4f37d"
      },
      "source": [
        "!pip install pygoogletranslation"
      ],
      "execution_count": null,
      "outputs": [
        {
          "output_type": "stream",
          "text": [
            "Collecting pygoogletranslation\n",
            "  Downloading https://files.pythonhosted.org/packages/b6/fe/724f2e8437b204f155ad3ca5500adc9df3e1c4ea6fdb7c31674af53a483b/pygoogletranslation-2.0.4-py3-none-any.whl\n",
            "Collecting docx2txt\n",
            "  Downloading https://files.pythonhosted.org/packages/7d/7d/60ee3f2b16d9bfdfa72e8599470a2c1a5b759cb113c6fe1006be28359327/docx2txt-0.8.tar.gz\n",
            "Requirement already satisfied: nltk in /usr/local/lib/python3.6/dist-packages (from pygoogletranslation) (3.2.5)\n",
            "Collecting unidecode\n",
            "\u001b[?25l  Downloading https://files.pythonhosted.org/packages/74/65/91eab655041e9e92f948cb7302e54962035762ce7b518272ed9d6b269e93/Unidecode-1.1.2-py2.py3-none-any.whl (239kB)\n",
            "\u001b[K     |████████████████████████████████| 245kB 4.3MB/s \n",
            "\u001b[?25hCollecting PyPDF2\n",
            "\u001b[?25l  Downloading https://files.pythonhosted.org/packages/b4/01/68fcc0d43daf4c6bdbc6b33cc3f77bda531c86b174cac56ef0ffdb96faab/PyPDF2-1.26.0.tar.gz (77kB)\n",
            "\u001b[K     |████████████████████████████████| 81kB 5.2MB/s \n",
            "\u001b[?25hRequirement already satisfied: requests in /usr/local/lib/python3.6/dist-packages (from pygoogletranslation) (2.23.0)\n",
            "Requirement already satisfied: six in /usr/local/lib/python3.6/dist-packages (from nltk->pygoogletranslation) (1.15.0)\n",
            "Requirement already satisfied: urllib3!=1.25.0,!=1.25.1,<1.26,>=1.21.1 in /usr/local/lib/python3.6/dist-packages (from requests->pygoogletranslation) (1.24.3)\n",
            "Requirement already satisfied: chardet<4,>=3.0.2 in /usr/local/lib/python3.6/dist-packages (from requests->pygoogletranslation) (3.0.4)\n",
            "Requirement already satisfied: idna<3,>=2.5 in /usr/local/lib/python3.6/dist-packages (from requests->pygoogletranslation) (2.10)\n",
            "Requirement already satisfied: certifi>=2017.4.17 in /usr/local/lib/python3.6/dist-packages (from requests->pygoogletranslation) (2020.12.5)\n",
            "Building wheels for collected packages: docx2txt, PyPDF2\n",
            "  Building wheel for docx2txt (setup.py) ... \u001b[?25l\u001b[?25hdone\n",
            "  Created wheel for docx2txt: filename=docx2txt-0.8-cp36-none-any.whl size=3960 sha256=341b12fddc8fc429c70e95cbb8c5122722ddf68612f5eedc60a05e3a15b5b89b\n",
            "  Stored in directory: /root/.cache/pip/wheels/b2/1f/26/a051209bbb77fc6bcfae2bb7e01fa0ff941b82292ab084d596\n",
            "  Building wheel for PyPDF2 (setup.py) ... \u001b[?25l\u001b[?25hdone\n",
            "  Created wheel for PyPDF2: filename=PyPDF2-1.26.0-cp36-none-any.whl size=61087 sha256=0a36d70fca9f51bbeb078187cc176739752ea0354e0ac5e3ec0931bcb832dbd9\n",
            "  Stored in directory: /root/.cache/pip/wheels/53/84/19/35bc977c8bf5f0c23a8a011aa958acd4da4bbd7a229315c1b7\n",
            "Successfully built docx2txt PyPDF2\n",
            "Installing collected packages: docx2txt, unidecode, PyPDF2, pygoogletranslation\n",
            "Successfully installed PyPDF2-1.26.0 docx2txt-0.8 pygoogletranslation-2.0.4 unidecode-1.1.2\n"
          ],
          "name": "stdout"
        }
      ]
    },
    {
      "cell_type": "code",
      "metadata": {
        "id": "ETMobbDGFBr3"
      },
      "source": [
        "!pip list"
      ],
      "execution_count": null,
      "outputs": []
    },
    {
      "cell_type": "code",
      "metadata": {
        "id": "1qHpc7X0B3Pw",
        "colab": {
          "base_uri": "https://localhost:8080/"
        },
        "outputId": "581d7c5b-fe82-412f-bbde-1f713d6643fc"
      },
      "source": [
        "# -*- coding: utf-8 -*-\n",
        "\"\"\"\n",
        "\n",
        "@author: Raúl Romero\n",
        "\"\"\"\n",
        "import pandas as pd\n",
        "#from googletrans import Translator\n",
        "from pygoogletranslation import Translator\n",
        "import math\n",
        "\n",
        "traductor = Translator()\n",
        "idioma_orig =\"es\"\n",
        "idioma_dest = \"en\"\n",
        "\n",
        "##Lectura de dataset\n",
        "df = pd.read_excel(\"/content/dataset2_clean2.xlsx\")\n",
        "#print(\"Parte del texto leído: \"+str(df.head(10)))\n",
        "tweets = df.text\n",
        "\n",
        "df_Transl = pd.DataFrame(columns=[\"text_original\", \"text_traducido\"])\n",
        "\n",
        "#metodo de traduccion recorriendo la lista de tweets\n",
        "print(\"Se ha iniciado la traducción...\")\n",
        "for i, tweet in enumerate(tweets):\n",
        "    #print(tweet)\n",
        "    if (str(tweet) == 'nan'):\n",
        "        print(\"Lectura de tweets completa\")\n",
        "        break\n",
        "    traduccion = traductor.translate(tweet, src=idioma_orig, dest=idioma_dest)\n",
        "    #print(traduccion.origin, \" -> \", traduccion.text)\n",
        "    cc=1\n",
        "    #en caso de no traducirse, lo reintenta varias veces\n",
        "    while (traduccion.origin == traduccion.text):\n",
        "        print(\"No se pudo traducir la fila \"+str(i)+\", reintento \"+ str(cc))\n",
        "        traductor = Translator(service_urls=[\n",
        "              'translate.google.com',\n",
        "              'translate.google.co.kr',\n",
        "              'translate.google.com.ec',\n",
        "              'translate.google.com.mx',\n",
        "              'translate.google.com.uy',\n",
        "              'translate.google.cn',\n",
        "            ])\n",
        "        traduccion = traductor.translate(tweet, src=idioma_orig, dest=idioma_dest)\n",
        "        \n",
        "        cc+=1\n",
        "        if(cc > 5): break\n",
        "    #verifica si el texto se tradujo\n",
        "    if(traduccion.origin == traduccion.text): \n",
        "        print(\"Se intentó traducir:\"+str(traduccion.origin) +\" pero devolvió: \" +str(traduccion.text))\n",
        "        print(\"Todo el proceso se detuvo en el indice: \"+str(i)+\" y el tweet: \"+str(tweet))\n",
        "        break\n",
        "    \n",
        "    #agrega texto traducido a un dataframe\n",
        "    df_Transl.loc[i] = [traduccion.origin, traduccion.text]\n",
        "\n",
        "#Guargar archivo\n",
        "print(\"Traducción finalizada.\")\n",
        "df_Transl.to_excel(\"/content/tweets_traducidos.xlsx\", index=False)\n",
        "df_Transl.to_csv(\"/content/tweets_traducidos.csv\", index=False)\n",
        "print(\"Archivos exportados correctamente.\")"
      ],
      "execution_count": null,
      "outputs": [
        {
          "output_type": "stream",
          "text": [
            "Se ha iniciado la traducción...\n",
            "Lectura de tweets completa\n",
            "Traducción finalizada.\n",
            "Archivos exportados correctamente.\n"
          ],
          "name": "stdout"
        }
      ]
    }
  ]
}
