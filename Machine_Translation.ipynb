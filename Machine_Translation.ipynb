{
  "nbformat": 4,
  "nbformat_minor": 0,
  "metadata": {
    "colab": {
      "name": "Machine_Translation.ipynb",
      "provenance": [],
      "collapsed_sections": [],
      "mount_file_id": "18RGbDf3RuoE2x169Pevm_7A5iZeFC9Ub",
      "authorship_tag": "ABX9TyNvTf5qhpnHLsqu5lDaBKqj",
      "include_colab_link": true
    },
    "kernelspec": {
      "name": "python3",
      "display_name": "Python 3"
    }
  },
  "cells": [
    {
      "cell_type": "markdown",
      "metadata": {
        "id": "view-in-github",
        "colab_type": "text"
      },
      "source": [
        "<a href=\"https://colab.research.google.com/github/raulrrv/Deteccion_Xenofobia_TT/blob/master/Machine_Translation.ipynb\" target=\"_parent\"><img src=\"https://colab.research.google.com/assets/colab-badge.svg\" alt=\"Open In Colab\"/></a>"
      ]
    },
    {
      "cell_type": "code",
      "metadata": {
        "id": "LKRjkSPIEwuY",
        "colab_type": "code",
        "colab": {}
      },
      "source": [
        "!pip install googletrans\n",
        "!pip3 install hyper"
      ],
      "execution_count": null,
      "outputs": []
    },
    {
      "cell_type": "code",
      "metadata": {
        "id": "ETMobbDGFBr3",
        "colab_type": "code",
        "colab": {}
      },
      "source": [
        "!pip list"
      ],
      "execution_count": null,
      "outputs": []
    },
    {
      "cell_type": "code",
      "metadata": {
        "id": "1qHpc7X0B3Pw",
        "colab_type": "code",
        "colab": {
          "base_uri": "https://localhost:8080/",
          "height": 221
        },
        "outputId": "7b2c6995-f663-4165-ee04-6ff9de8563b8"
      },
      "source": [
        "# -*- coding: utf-8 -*-\n",
        "\"\"\"\n",
        "\n",
        "@author: Raúl Romero\n",
        "\"\"\"\n",
        "import pandas as pd\n",
        "from googletrans import Translator\n",
        "\n",
        "traductor = Translator()\n",
        "idioma_orig =\"es\"\n",
        "idioma_dest = \"en\"\n",
        "\n",
        "##Lectura de dataset\n",
        "df = pd.read_excel(\"/content/drive/My Drive/Colab Notebooks/Datos/tweets_clean_es_nodupl.xlsx\", error_bad_lines=False)\n",
        "print(\"Parte del texto leído: \"+str(df.head(10)))\n",
        "tweets = df.text\n",
        "df_Transl = pd.DataFrame(columns=[\"text_original\", \"text_traducido\"])\n",
        "\n",
        "#metodo de traduccion recorriendo la lista de tweets\n",
        "for i, tweet in enumerate(tweets):\n",
        "    traduccion = traductor.translate(tweet, src=idioma_orig, dest=idioma_dest)\n",
        "    #print(traduccion.origin, \" -> \", traduccion.text)\n",
        "    cc=1\n",
        "    #en caso de traducirse, lo reintenta varias veces\n",
        "    while (traduccion.origin == traduccion.text):\n",
        "        print(\"No se pudo traducir la fila \"+str(i)+\", reintento \"+ str(cc))\n",
        "        traductor = Translator(service_urls=[\n",
        "              'translate.google.com',\n",
        "              'translate.google.co.kr',\n",
        "              'translate.google.com.ec',\n",
        "              'translate.google.com.mx',\n",
        "              'translate.google.com.uy',\n",
        "              'translate.google.cn',\n",
        "            ])\n",
        "        traduccion = traductor.translate(tweet, src=idioma_orig, dest=idioma_dest)\n",
        "        \n",
        "        cc+=1\n",
        "        if(cc > 5): break\n",
        "    #verifica si el texto se tradujo\n",
        "    if(traduccion.origin == traduccion.text): \n",
        "        print(\"Se intentó traducir:\"+str(traduccion.origin) +\" pero devolvió: \" +str(traduccion.text))\n",
        "        print(\"Todo el proceso se detuvo en el indice: \"+str(i)+\" y el tweet: \"+str(tweet))\n",
        "        break\n",
        "    \n",
        "    #agrega texto traducido a un dataframe\n",
        "    df_Transl.loc[i] = [traduccion.origin, traduccion.text]\n",
        "\n",
        "#Guargar archivo\n",
        "\n",
        "df_Transl.to_excel(\"/content/drive/My Drive/Colab Notebooks/Datos/tweets_clean_es_nodupl_en_fraccion1.xlsx\", index=False)\n",
        "df_Transl.to_csv(\"/content/drive/My Drive/Colab Notebooks/Datos/tweets_clean_es_nodupl_en_fraccion1.csv\", index=False)"
      ],
      "execution_count": null,
      "outputs": [
        {
          "output_type": "stream",
          "text": [
            "Parte del texto leído:                                                 text\n",
            "0   un abrazo los hermanos venezolanos desde ecua...\n",
            "1  hola chamo como estas sr cuanto tiempo tiene f...\n",
            "2   chamo el no gobierna el país el gobierna fuer...\n",
            "3  la honrrilla llegó al combinado venezolano en ...\n",
            "4   chamaaaa stoy viendo la mujer perfecta aqui e...\n",
            "5  26 ecuador retoma el control del juego remate ...\n",
            "6  venezolano coño los yankees quedaron fuera con...\n",
            "7  pedazo de pendejo cegados por el odio opositor...\n",
            "8   que vaya vigilia el ni que fuera peo de nosot...\n",
            "9  facistas viva el ecuador viva la revolución ci...\n",
            "no se pudo traducir, intento 1\n"
          ],
          "name": "stdout"
        }
      ]
    }
  ]
}